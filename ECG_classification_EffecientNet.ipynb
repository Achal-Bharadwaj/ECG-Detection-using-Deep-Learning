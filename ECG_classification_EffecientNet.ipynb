{
  "cells": [
    {
      "cell_type": "code",
      "execution_count": 1,
      "metadata": {
        "colab": {
          "base_uri": "https://localhost:8080/"
        },
        "id": "DUXedeb4Dhox",
        "outputId": "040df2c6-48d3-42e7-d6b0-3f815248d32a"
      },
      "outputs": [
        {
          "output_type": "stream",
          "name": "stdout",
          "text": [
            "Downloading ecg-image-data, 899782756 bytes compressed\n",
            "[==================================================] 899782756 bytes downloaded\n",
            "Downloaded and uncompressed: ecg-image-data\n",
            "Data source import complete.\n"
          ]
        }
      ],
      "source": [
        "\n",
        "\n",
        "import os\n",
        "import sys\n",
        "from tempfile import NamedTemporaryFile\n",
        "from urllib.request import urlopen\n",
        "from urllib.parse import unquote, urlparse\n",
        "from urllib.error import HTTPError\n",
        "from zipfile import ZipFile\n",
        "import tarfile\n",
        "import shutil\n",
        "\n",
        "CHUNK_SIZE = 40960\n",
        "DATA_SOURCE_MAPPING = 'ecg-image-data:https%3A%2F%2Fstorage.googleapis.com%2Fkaggle-data-sets%2F875281%2F1490938%2Fbundle%2Farchive.zip%3FX-Goog-Algorithm%3DGOOG4-RSA-SHA256%26X-Goog-Credential%3Dgcp-kaggle-com%2540kaggle-161607.iam.gserviceaccount.com%252F20240429%252Fauto%252Fstorage%252Fgoog4_request%26X-Goog-Date%3D20240429T133736Z%26X-Goog-Expires%3D259200%26X-Goog-SignedHeaders%3Dhost%26X-Goog-Signature%3D97505eae9a7c86113a30cec58d5fe1642cce0f2247a9373077f5645029c1845ced216bc87b9448f4567ee939cc35cb3319a7536ed6b7bf3dcd6a3a079ff8e104c5e462b53c53413e87cb25dee0b3fa63605bb3514455094316c38562687a470f56b2f2d9e1f8c6cc99da75413f157fe1722ebc2a68059a56e4a8e9b2a3b94cce3f68109650112b19698a052814862d1a7cab247d286513e830c0a14f3e369b7542bbe95953414daf55b8dc5810a347f304c70d1ae03e2be53b5549044e94cc27fed5e017f510f86cd00412b96b419860654b6e4f902be2e62138e8dbd87ff6654d1df7d84aa75fa706adf406028945b033045404572472fa59ec24e7f1f7d949'\n",
        "\n",
        "KAGGLE_INPUT_PATH='/kaggle/input'\n",
        "KAGGLE_WORKING_PATH='/kaggle/working'\n",
        "KAGGLE_SYMLINK='kaggle'\n",
        "\n",
        "!umount /kaggle/input/ 2> /dev/null\n",
        "shutil.rmtree('/kaggle/input', ignore_errors=True)\n",
        "os.makedirs(KAGGLE_INPUT_PATH, 0o777, exist_ok=True)\n",
        "os.makedirs(KAGGLE_WORKING_PATH, 0o777, exist_ok=True)\n",
        "\n",
        "try:\n",
        "  os.symlink(KAGGLE_INPUT_PATH, os.path.join(\"..\", 'input'), target_is_directory=True)\n",
        "except FileExistsError:\n",
        "  pass\n",
        "try:\n",
        "  os.symlink(KAGGLE_WORKING_PATH, os.path.join(\"..\", 'working'), target_is_directory=True)\n",
        "except FileExistsError:\n",
        "  pass\n",
        "\n",
        "for data_source_mapping in DATA_SOURCE_MAPPING.split(','):\n",
        "    directory, download_url_encoded = data_source_mapping.split(':')\n",
        "    download_url = unquote(download_url_encoded)\n",
        "    filename = urlparse(download_url).path\n",
        "    destination_path = os.path.join(KAGGLE_INPUT_PATH, directory)\n",
        "    try:\n",
        "        with urlopen(download_url) as fileres, NamedTemporaryFile() as tfile:\n",
        "            total_length = fileres.headers['content-length']\n",
        "            print(f'Downloading {directory}, {total_length} bytes compressed')\n",
        "            dl = 0\n",
        "            data = fileres.read(CHUNK_SIZE)\n",
        "            while len(data) > 0:\n",
        "                dl += len(data)\n",
        "                tfile.write(data)\n",
        "                done = int(50 * dl / int(total_length))\n",
        "                sys.stdout.write(f\"\\r[{'=' * done}{' ' * (50-done)}] {dl} bytes downloaded\")\n",
        "                sys.stdout.flush()\n",
        "                data = fileres.read(CHUNK_SIZE)\n",
        "            if filename.endswith('.zip'):\n",
        "              with ZipFile(tfile) as zfile:\n",
        "                zfile.extractall(destination_path)\n",
        "            else:\n",
        "              with tarfile.open(tfile.name) as tarfile:\n",
        "                tarfile.extractall(destination_path)\n",
        "            print(f'\\nDownloaded and uncompressed: {directory}')\n",
        "    except HTTPError as e:\n",
        "        print(f'Failed to load (likely expired) {download_url} to path {destination_path}')\n",
        "        continue\n",
        "    except OSError as e:\n",
        "        print(f'Failed to load {download_url} to path {destination_path}')\n",
        "        continue\n",
        "\n",
        "print('Data source import complete.')\n"
      ]
    },
    {
      "cell_type": "code",
      "execution_count": 2,
      "metadata": {
        "id": "RJruYMoqDho3"
      },
      "outputs": [],
      "source": [
        "import numpy as np\n",
        "import matplotlib.pyplot as plt\n",
        "from tensorflow.keras.preprocessing.image import ImageDataGenerator\n",
        "from tensorflow.keras.applications import EfficientNetB0\n",
        "from tensorflow.keras.layers import Dense, Flatten\n",
        "from tensorflow.keras.models import Model\n",
        "from tensorflow.keras.optimizers import Adam\n",
        "\n",
        "# Define constants\n",
        "IMAGE_SIZE = [224, 224]\n",
        "BATCH_SIZE = 32\n",
        "train_path = '../input/ecg-image-data/ECG_Image_data/train'\n",
        "valid_path = '../input/ecg-image-data/ECG_Image_data/test'\n"
      ]
    },
    {
      "cell_type": "code",
      "execution_count": 3,
      "metadata": {
        "colab": {
          "base_uri": "https://localhost:8080/"
        },
        "id": "-_2apRg5Dho5",
        "outputId": "804a6abd-a88c-4381-ab55-30fc5638bed9"
      },
      "outputs": [
        {
          "output_type": "stream",
          "name": "stdout",
          "text": [
            "Found 99199 images belonging to 6 classes.\n",
            "Found 24799 images belonging to 6 classes.\n"
          ]
        }
      ],
      "source": [
        "# Data Augmentation\n",
        "train_datagen = ImageDataGenerator(rescale=1./255,\n",
        "                                   shear_range=0.2,\n",
        "                                   zoom_range=0.2,\n",
        "                                   horizontal_flip=True)\n",
        "\n",
        "test_datagen = ImageDataGenerator(rescale=1./255)\n",
        "\n",
        "training_set = train_datagen.flow_from_directory(train_path,\n",
        "                                                 target_size=IMAGE_SIZE,\n",
        "                                                 batch_size=BATCH_SIZE,\n",
        "                                                 class_mode='categorical')\n",
        "\n",
        "test_set = test_datagen.flow_from_directory(valid_path,\n",
        "                                            target_size=IMAGE_SIZE,\n",
        "                                            batch_size=BATCH_SIZE,\n",
        "                                            class_mode='categorical')\n"
      ]
    },
    {
      "cell_type": "code",
      "execution_count": 4,
      "metadata": {
        "colab": {
          "base_uri": "https://localhost:8080/"
        },
        "id": "jlyYzRyZDho6",
        "outputId": "6393cdc7-ecc2-47a4-9b97-37764ba8bedb"
      },
      "outputs": [
        {
          "output_type": "stream",
          "name": "stdout",
          "text": [
            "Downloading data from https://storage.googleapis.com/keras-applications/efficientnetb0_notop.h5\n",
            "16705208/16705208 [==============================] - 0s 0us/step\n"
          ]
        }
      ],
      "source": [
        "# Load pre-trained EfficientNetB0 model\n",
        "base_model = EfficientNetB0(input_shape=IMAGE_SIZE + [3], weights='imagenet', include_top=False)\n",
        "\n",
        "# Freeze the layers\n",
        "for layer in base_model.layers:\n",
        "    layer.trainable = False\n",
        "\n",
        "# Adding custom layers\n",
        "x = Flatten()(base_model.output)\n",
        "prediction = Dense(len(training_set.class_indices), activation='softmax')(x)\n",
        "model = Model(inputs=base_model.input, outputs=prediction)\n",
        "\n",
        "# Compile the model\n",
        "model.compile(optimizer=Adam(), loss='categorical_crossentropy', metrics=['accuracy'])\n"
      ]
    },
    {
      "cell_type": "code",
      "execution_count": 5,
      "metadata": {
        "colab": {
          "base_uri": "https://localhost:8080/"
        },
        "id": "p5OEJouhDho7",
        "outputId": "f89fadec-db98-419c-a11b-14f0e2117e32"
      },
      "outputs": [
        {
          "output_type": "stream",
          "name": "stdout",
          "text": [
            "Epoch 1/4\n",
            "3100/3100 [==============================] - 1543s 494ms/step - loss: 1.9836 - accuracy: 0.7028 - val_loss: 2.5618 - val_accuracy: 0.8454\n",
            "Epoch 2/4\n",
            "3100/3100 [==============================] - 1477s 477ms/step - loss: 1.6587 - accuracy: 0.7502 - val_loss: 2.0346 - val_accuracy: 0.8468\n",
            "Epoch 3/4\n",
            "3100/3100 [==============================] - 1458s 470ms/step - loss: 1.6012 - accuracy: 0.7566 - val_loss: 0.7310 - val_accuracy: 0.8457\n",
            "Epoch 4/4\n",
            "3100/3100 [==============================] - 1439s 464ms/step - loss: 1.6161 - accuracy: 0.7601 - val_loss: 0.6498 - val_accuracy: 0.8498\n"
          ]
        }
      ],
      "source": [
        "# Train the model\n",
        "history = model.fit(training_set,\n",
        "                    validation_data=test_set,\n",
        "                    epochs=4,\n",
        "                    steps_per_epoch=len(training_set),\n",
        "                    validation_steps=len(test_set))\n"
      ]
    },
    {
      "cell_type": "code",
      "execution_count": 6,
      "metadata": {
        "colab": {
          "base_uri": "https://localhost:8080/"
        },
        "id": "1sPccYX-Dho7",
        "outputId": "0cb35669-0f26-4723-db20-5be76a6599c9"
      },
      "outputs": [
        {
          "output_type": "stream",
          "name": "stdout",
          "text": [
            "775/775 [==============================] - 89s 115ms/step - loss: 0.6498 - accuracy: 0.8498\n",
            "Test Loss: 0.6498153209686279\n",
            "Test Accuracy: 0.8498326539993286\n"
          ]
        }
      ],
      "source": [
        "# Evaluate model on the entire test set\n",
        "test_loss, test_accuracy = model.evaluate(test_set, steps=len(test_set))\n",
        "\n",
        "print(\"Test Loss:\", test_loss)\n",
        "print(\"Test Accuracy:\", test_accuracy)\n"
      ]
    },
    {
      "cell_type": "code",
      "execution_count": 7,
      "metadata": {
        "colab": {
          "base_uri": "https://localhost:8080/",
          "height": 449
        },
        "id": "iDrgx7gJDho8",
        "outputId": "9dc8f66a-ad9a-49d1-a750-e409adc32d52"
      },
      "outputs": [
        {
          "output_type": "display_data",
          "data": {
            "text/plain": [
              "<Figure size 640x480 with 1 Axes>"
            ],
            "image/png": "[encoded data removed]"
          },
          "metadata": {}
        }
      ],
      "source": [
        "# Plot training history\n",
        "plt.plot(history.history['accuracy'], label='Training Accuracy')\n",
        "plt.plot(history.history['val_accuracy'], label='Validation Accuracy')\n",
        "plt.xlabel('Epoch')\n",
        "plt.ylabel('Accuracy')\n",
        "plt.legend()\n",
        "plt.show()\n"
      ]
    },
    {
      "cell_type": "code",
      "execution_count": 8,
      "metadata": {
        "colab": {
          "base_uri": "https://localhost:8080/",
          "height": 449
        },
        "id": "ao88Dg19Dho9",
        "outputId": "80738484-1a06-47bb-838d-41e45ded3f5d"
      },
      "outputs": [
        {
          "output_type": "display_data",
          "data": {
            "text/plain": [
              "<Figure size 640x480 with 1 Axes>"
            ],
            "image/png": "[encoded data removed]"
          },
          "metadata": {}
        }
      ],
      "source": [
        "# Plot training and validation loss\n",
        "plt.plot(history.history['loss'], label='Training Loss')\n",
        "plt.plot(history.history['val_loss'], label='Validation Loss')\n",
        "plt.xlabel('Epoch')\n",
        "plt.ylabel('Loss')\n",
        "plt.legend()\n",
        "plt.show()\n"
      ]
    },
    {
      "cell_type": "code",
      "execution_count": 9,
      "metadata": {
        "colab": {
          "base_uri": "https://localhost:8080/"
        },
        "id": "YTDTuE21Dho-",
        "outputId": "6a46f61b-9eb9-4f65-82c4-4c1e18db34ee"
      },
      "outputs": [
        {
          "output_type": "stream",
          "name": "stdout",
          "text": [
            "1/1 [==============================] - 3s 3s/step\n",
            "Predicted Class: N\n"
          ]
        }
      ],
      "source": [
        "from tensorflow.keras.preprocessing import image\n",
        "import numpy as np\n",
        "\n",
        "def load_and_preprocess_image(image_path, target_size=(224, 224)):\n",
        "    img = image.load_img(image_path, target_size=target_size)\n",
        "    img_array = image.img_to_array(img)\n",
        "    img_array = np.expand_dims(img_array, axis=0)\n",
        "    img_array /= 255.  # Rescale pixel values to [0, 1]\n",
        "    return img_array\n",
        "\n",
        "def classify_image(model, image_path, class_indices):\n",
        "    img_array = load_and_preprocess_image(image_path)\n",
        "    prediction = model.predict(img_array)\n",
        "    predicted_class = class_indices[np.argmax(prediction)]\n",
        "    return predicted_class\n",
        "\n",
        "class_indices = {0: 'F', 1: 'M', 2: 'N', 3: 'Q', 4: 'S', 5: 'V'}  # Update with your class indices\n",
        "\n",
        "image_path = '../input/ecg-image-data/ECG_Image_data/test/N/N400.png'  # Update with the path to your PNG image\n",
        "predicted_class = classify_image(model, image_path, class_indices)\n",
        "print(\"Predicted Class:\", predicted_class)\n"
      ]
    }
  ],
  "metadata": {
    "kernelspec": {
      "display_name": "Python 3",
      "name": "python3"
    },
    "language_info": {
      "codemirror_mode": {
        "name": "ipython",
        "version": 3
      },
      "file_extension": ".py",
      "mimetype": "text/x-python",
      "name": "python",
      "nbconvert_exporter": "python",
      "pygments_lexer": "ipython3",
      "version": "3.12.3"
    },
    "colab": {
      "provenance": [],
      "gpuType": "T4"
    },
    "accelerator": "GPU"
  },
  "nbformat": 4,
  "nbformat_minor": 0
}